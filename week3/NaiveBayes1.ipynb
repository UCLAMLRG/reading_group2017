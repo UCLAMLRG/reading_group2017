{
 "cells": [
  {
   "cell_type": "markdown",
   "metadata": {},
   "source": [
    "#  Naive Bayes"
   ]
  },
  {
   "cell_type": "markdown",
   "metadata": {
    "collapsed": true
   },
   "source": [
    "Welcome to a Jupyter Notebook! In these notebooks, we can seamlessly interweave code and text. We can even insert math! $P(C_k \\, | \\, X_1...X_n)$"
   ]
  },
  {
   "cell_type": "markdown",
   "metadata": {},
   "source": [
    "## Naive Bayes from Scratch\n",
    "\n",
    "Although we will be implementing several flavors of Naive Bayes using Scikit-Learn, one of the main Python libraries for machine learning, it is possible to code the whole thing up from scratch. If you are interested, check out *Data Science from Scratch* by Joel Grus. "
   ]
  },
  {
   "cell_type": "markdown",
   "metadata": {},
   "source": [
    "## Naive Bayes with Scikit Learn"
   ]
  },
  {
   "cell_type": "markdown",
   "metadata": {},
   "source": [
    "First, let's get everything we need together. This means loading (with \"import\") the appropriate modules and sub-modules. Scikit-Learn has a bunch of built-in data for playing and testing, so we will use one of these for our text applications. "
   ]
  },
  {
   "cell_type": "code",
   "execution_count": 12,
   "metadata": {
    "collapsed": false
   },
   "outputs": [],
   "source": [
    "%matplotlib inline\n",
    "import numpy as np #Numpy allows us to do heavy-duty math in Python.\n",
    "import matplotlib.pyplot as plt #This will let us do some plotting. Matplotlib is a powerful plotting library.\n",
    "import seaborn as sns; sns.set() #Seaborn is a newer library, focused on statistical visualization.\n",
    "#sns.set() resets Seaborn to the default plotting parameters.\n",
    "#This is one way to make a comment. We typically use it for short comments.\n",
    "\"\"\"\n",
    "This is how we make longer comments. Typically, we use this for comments that will span multiple lines. It is a good\n",
    "idea to comment your code, even if only you will ever see it, because you will forget, amazingly quickly, whether you \n",
    "remembered to deal with a particular issue, why you chose to write something in a particular way, etc. You should just\n",
    "think about \"future you\" like another user, who may have a bit more of the same knowledge as \"current you,\" compared to \n",
    "an arbitrary user, but is nowhere near as knowledgeable as \"current you.\" I cannot tell you how much time I have wasted\n",
    "or how much anxiety I have experienced because I did not comment my code enough. \n",
    "\n",
    "A couple of other notes. It is common practice to rename particular modules/packages/libraries using \"as.\" It is also\n",
    "considered poor form to import EVERYTHING from a library; you are supposed to only import what you need. We will do\n",
    "this below in scikit learn.\n",
    "\"\"\"; #If you are curious why there is a semi-colon here, just try removing it. "
   ]
  },
  {
   "cell_type": "markdown",
   "metadata": {},
   "source": [
    "Now let's get some data. The examples here are drawn from the *Python Data Science Handbook* by Jake VanderPlas."
   ]
  },
  {
   "cell_type": "code",
   "execution_count": 1,
   "metadata": {
    "collapsed": false
   },
   "outputs": [
    {
     "data": {
      "text/plain": [
       "['alt.atheism',\n",
       " 'comp.graphics',\n",
       " 'comp.os.ms-windows.misc',\n",
       " 'comp.sys.ibm.pc.hardware',\n",
       " 'comp.sys.mac.hardware',\n",
       " 'comp.windows.x',\n",
       " 'misc.forsale',\n",
       " 'rec.autos',\n",
       " 'rec.motorcycles',\n",
       " 'rec.sport.baseball',\n",
       " 'rec.sport.hockey',\n",
       " 'sci.crypt',\n",
       " 'sci.electronics',\n",
       " 'sci.med',\n",
       " 'sci.space',\n",
       " 'soc.religion.christian',\n",
       " 'talk.politics.guns',\n",
       " 'talk.politics.mideast',\n",
       " 'talk.politics.misc',\n",
       " 'talk.religion.misc']"
      ]
     },
     "execution_count": 1,
     "metadata": {},
     "output_type": "execute_result"
    }
   ],
   "source": [
    "from sklearn.datasets import fetch_20newsgroups \n",
    "data = fetch_20newsgroups() #Free data to play with: documents from a newsgroup corpus.\n",
    "data.target_names #Possible categories, i.e., the newsgroups. Note that real world data will not have these methods."
   ]
  },
  {
   "cell_type": "markdown",
   "metadata": {},
   "source": [
    "For illustrative purposes, we are going to pick a subset of these. "
   ]
  },
  {
   "cell_type": "code",
   "execution_count": 2,
   "metadata": {
    "collapsed": true
   },
   "outputs": [],
   "source": [
    "categories = ['talk.religion.misc', 'soc.religion.christian', 'sci.space', 'comp.graphics'] #Can change these of course\n",
    "#Here we are making a list of specific categories. \n",
    "train = fetch_20newsgroups(subset='train', categories=categories)\n",
    "test = fetch_20newsgroups(subset='test', categories=categories)\n",
    "#Our dataset has the built-in capacity to pull out the training and test set, only keeping examples that match categories"
   ]
  },
  {
   "cell_type": "markdown",
   "metadata": {},
   "source": [
    "It is usually a good idea to look at your data. So let's first see how many training and test examples we have."
   ]
  },
  {
   "cell_type": "code",
   "execution_count": 3,
   "metadata": {
    "collapsed": false
   },
   "outputs": [
    {
     "data": {
      "text/plain": [
       "2153"
      ]
     },
     "execution_count": 3,
     "metadata": {},
     "output_type": "execute_result"
    }
   ],
   "source": [
    "len(train.data) #Here I have assumed that each line of train.data is a data instance; we'll check that below."
   ]
  },
  {
   "cell_type": "code",
   "execution_count": 4,
   "metadata": {
    "collapsed": false
   },
   "outputs": [
    {
     "data": {
      "text/plain": [
       "1432"
      ]
     },
     "execution_count": 4,
     "metadata": {},
     "output_type": "execute_result"
    }
   ],
   "source": [
    "len(test.data) #Same thing for testing -- it's about 60% training, 40% testing. \n",
    "#Note that there are much fancier things to do here, like cross-validation, that we'll cover later."
   ]
  },
  {
   "cell_type": "code",
   "execution_count": 5,
   "metadata": {
    "collapsed": false
   },
   "outputs": [
    {
     "name": "stdout",
     "output_type": "stream",
     "text": [
      "From: dmcgee@uluhe.soest.hawaii.edu (Don McGee)\n",
      "Subject: Federal Hearing\n",
      "Originator: dmcgee@uluhe\n",
      "Organization: School of Ocean and Earth Science and Technology\n",
      "Distribution: usa\n",
      "Lines: 10\n",
      "\n",
      "\n",
      "Fact or rumor....?  Madalyn Murray O'Hare an atheist who eliminated the\n",
      "use of the bible reading and prayer in public schools 15 years ago is now\n",
      "going to appear before the FCC with a petition to stop the reading of the\n",
      "Gospel on the airways of America.  And she is also campaigning to remove\n",
      "Christmas programs, songs, etc from the public schools.  If it is true\n",
      "then mail to Federal Communications Commission 1919 H Street Washington DC\n",
      "20054 expressing your opposition to her request.  Reference Petition number\n",
      "\n",
      "2493.\n",
      "\n"
     ]
    }
   ],
   "source": [
    "print(train.data[5]) #Let's look at a single example of trianing data. How can you look at a different example?"
   ]
  },
  {
   "cell_type": "markdown",
   "metadata": {},
   "source": [
    "Clearly we are going to need to do a little work to turn this into something we can feed our Naive Bayes classifier. In other words, we need to turn this text into a vector of features $X_1, X_2, \\dots X_n$. Scikit Learn has some built-in tools to do this, called vectorizers. Which vectorizer we use depends on what kind of Naive Bayes we are doing. This choice, for text data, corresponds to a choice of generative model, i.e., our picture of how the text is written down: Bernoulli or Multinomial. "
   ]
  },
  {
   "cell_type": "markdown",
   "metadata": {},
   "source": [
    "## Bernoulli Naive Bayes"
   ]
  },
  {
   "cell_type": "markdown",
   "metadata": {},
   "source": [
    "Here's one pretty brutal way to model the text. Given a vocabulary $w_1,\\dots,w_n$, let $X_i$ be the event \"message contains $w_i$.\" $X_i = x_i, x_i \\in \\{0,1\\}$. To create this text representation, we use the following:"
   ]
  },
  {
   "cell_type": "code",
   "execution_count": 6,
   "metadata": {
    "collapsed": true
   },
   "outputs": [],
   "source": [
    "from sklearn.feature_extraction.text import CountVectorizer  #Feature extraction\n",
    "#Note that this vectorizer can be used to create count features or binary/boolean features"
   ]
  },
  {
   "cell_type": "markdown",
   "metadata": {},
   "source": [
    "### Mathematical Preliminaries"
   ]
  },
  {
   "cell_type": "markdown",
   "metadata": {
    "collapsed": true
   },
   "source": [
    "Recall the key independence assumption of Naive Bayes: $P(X_1 = x_1,\\dots,X_n = x_n\\,|\\,C_k) = P(X_1 = x_1\\,|\\,C_k)\\times \\dots \n",
    "    \\times P(X_n = x_n\\,|\\,C_k)$"
   ]
  },
  {
   "cell_type": "markdown",
   "metadata": {},
   "source": [
    "Bernoulli Naive Bayes means that we assume the following: to produce a newsgroup post, a class is chosen according to the prior $P(C_k)$ and then conditional on that class, we decide whether each word $w_i$ is present or absent with probability $P(X_i = x_i | C_k)$. This is our generative model. \n"
   ]
  },
  {
   "cell_type": "code",
   "execution_count": 7,
   "metadata": {
    "collapsed": true
   },
   "outputs": [],
   "source": [
    "from sklearn.naive_bayes import BernoulliNB #Our learner. This is generic scikit learn syntax.\n",
    "from sklearn.pipeline import make_pipeline #A cool feature of scikit learn. Because we need to vectorize before using \n",
    "model = make_pipeline(CountVectorizer(binary=True), BernoulliNB()) \n",
    "#When deployed on a dataset, this applies the vectorizer, then trains Multinomial NB\n",
    "#binary = True in CountVectorizer forces this to turn the counts into Booleans\n",
    "#Read more about it at: http://scikit-learn.org/stable/modules/generated/sklearn.feature_extraction.text.CountVectorizer.html#sklearn.feature_extraction.text.CountVectorizer\n"
   ]
  },
  {
   "cell_type": "code",
   "execution_count": 8,
   "metadata": {
    "collapsed": true
   },
   "outputs": [],
   "source": [
    "model.fit(train.data,train.target) #Training syntax: feed the fit method the training data and the training targets\n",
    "#In other words, give it the class labels that have already been assigned to the training data.\n",
    "\"\"\"\n",
    "This one line of code takes our training examples (bunch of posts), turns each post into a vector of 0's and 1's,\n",
    "and then learns the prior and likelihoods from the data. By default, it also applies Laplace smoothing with smoothing\n",
    "parameter = 1\n",
    "\"\"\";"
   ]
  },
  {
   "cell_type": "markdown",
   "metadata": {},
   "source": [
    "Now that we have trained the model, we can use it to predict the classes of the test data!"
   ]
  },
  {
   "cell_type": "code",
   "execution_count": 9,
   "metadata": {
    "collapsed": true
   },
   "outputs": [],
   "source": [
    "labels = model.predict(test.data) #That's it! "
   ]
  },
  {
   "cell_type": "markdown",
   "metadata": {},
   "source": [
    "Because we know for the test data what the correct classes are, we can (and should) see how well our classifier is performing. One simple way to do this is just to see how many examples it classifies correctly. "
   ]
  },
  {
   "cell_type": "code",
   "execution_count": 10,
   "metadata": {
    "collapsed": false
   },
   "outputs": [
    {
     "data": {
      "text/plain": [
       "0.77513966480446927"
      ]
     },
     "execution_count": 10,
     "metadata": {},
     "output_type": "execute_result"
    }
   ],
   "source": [
    "from sklearn.metrics import accuracy_score #This is just the fraction of examples classified correctly.\n",
    "accuracy_score(test.target,labels)"
   ]
  },
  {
   "cell_type": "markdown",
   "metadata": {},
   "source": [
    "Another handy way to assess performance is the confusion matrix:"
   ]
  },
  {
   "cell_type": "code",
   "execution_count": 13,
   "metadata": {
    "collapsed": false
   },
   "outputs": [
    {
     "data": {
      "image/png": "[encoded data removed]",
      "text/plain": [
       "<matplotlib.figure.Figure at 0x1125e5128>"
      ]
     },
     "metadata": {},
     "output_type": "display_data"
    }
   ],
   "source": [
    "from sklearn.metrics import confusion_matrix\n",
    "mat = confusion_matrix(test.target, labels)\n",
    "sns.heatmap(mat.T, square=True, annot=True, fmt='d', cbar=True,\n",
    "                xticklabels=train.target_names, yticklabels=train.target_names)\n",
    "plt.xlabel('true label')\n",
    "plt.ylabel('predicted label');"
   ]
  },
  {
   "cell_type": "markdown",
   "metadata": {},
   "source": [
    "**Think** about where you might look for other ways of assessing model performance..."
   ]
  },
  {
   "cell_type": "markdown",
   "metadata": {},
   "source": [
    "## Multinomial Naive Bayes"
   ]
  },
  {
   "cell_type": "markdown",
   "metadata": {},
   "source": [
    "Multinomial Naive Bayes means that we assume the following: to produce a newsgroup post, a class is chosen according to the prior $P(C_k)$ and then conditional on that class, we generate each word by drawing it from the set of all words with probabilities $p_1,p_2,\\dots p_n$ where these probabilities depend on the class. $X_i$ now counts the number of times $w_i$ appears in the message; note that these RVs are conditionally independent given the class. The likelihood takes on a convenient form: $P(X_1 = x_1, \\dots, X_i = x_i, \\dots X_n = x_n \\,|\\, C_k) \\propto \\prod_j p_j ^{x_j}$ (where, again, the pararameters $p_1,\\dots p_n$ depend on the class. This is our generative model. "
   ]
  },
  {
   "cell_type": "markdown",
   "metadata": {},
   "source": [
    "How would you change the following code block to implement Multinomial Naive Bayes?"
   ]
  },
  {
   "cell_type": "code",
   "execution_count": 36,
   "metadata": {
    "collapsed": true
   },
   "outputs": [],
   "source": [
    "from sklearn.naive_bayes import MultinomialNB #Our learner. This is generic scikit learn syntax.\n",
    "from sklearn.pipeline import make_pipeline #A cool feature of scikit learn. Because we need to vectorize before using \n",
    "model = make_pipeline(CountVectorizer(), MultinomialNB()) \n",
    "#When deployed on a dataset, this applies the vectorizer, then trains Multinomial NB\n",
    "#binary = True in CountVectorizer forces this to turn the counts into Booleans\n"
   ]
  },
  {
   "cell_type": "code",
   "execution_count": null,
   "metadata": {
    "collapsed": true
   },
   "outputs": [],
   "source": [
    "\n",
    "\n",
    "\n",
    "\n",
    "\n",
    "\n",
    "\n",
    "\n",
    "\n",
    "\n",
    "\n",
    "\n",
    "\n",
    "\n",
    "\n",
    "\n",
    "\n",
    "\n",
    "\n",
    "\n",
    "\n",
    "\n",
    "\n",
    "\n",
    "\n",
    "\n",
    "\n"
   ]
  },
  {
   "cell_type": "code",
   "execution_count": 37,
   "metadata": {
    "collapsed": false
   },
   "outputs": [
    {
     "data": {
      "text/plain": [
       "Pipeline(steps=[('countvectorizer', CountVectorizer(analyzer='word', binary=False, decode_error='strict',\n",
       "        dtype=<class 'numpy.int64'>, encoding='utf-8', input='content',\n",
       "        lowercase=True, max_df=1.0, max_features=None, min_df=1,\n",
       "        ngram_range=(1, 1), preprocessor=None, stop_words=None,\n",
       "        strip_accents=None, token_pattern='(?u)\\\\b\\\\w\\\\w+\\\\b',\n",
       "        tokenizer=None, vocabulary=None)), ('multinomialnb', MultinomialNB(alpha=1.0, class_prior=None, fit_prior=True))])"
      ]
     },
     "execution_count": 37,
     "metadata": {},
     "output_type": "execute_result"
    }
   ],
   "source": [
    "from sklearn.naive_bayes import MultinomialNB #Our learner. This is generic scikit learn syntax.\n",
    "from sklearn.pipeline import make_pipeline #A cool feature of scikit learn. Because we need to vectorize before using \n",
    "modelMNB1 = make_pipeline(CountVectorizer(), MultinomialNB()) \n",
    "modelMNB1.fit(train.data,train.target) "
   ]
  },
  {
   "cell_type": "code",
   "execution_count": 33,
   "metadata": {
    "collapsed": false
   },
   "outputs": [
    {
     "data": {
      "text/plain": [
       "MultinomialNB(alpha=1.0, class_prior=None, fit_prior=True)"
      ]
     },
     "execution_count": 33,
     "metadata": {},
     "output_type": "execute_result"
    }
   ],
   "source": [
    "#Here's an alternative way to do the same thing... We will follow this pattern in the homework. \n",
    "from sklearn.naive_bayes import MultinomialNB\n",
    "vectorizerC = CountVectorizer() #Get the vectorizer ready to go\n",
    "training_features_count = vectorizerC.fit_transform(train.data) #The vectorizer needs to learn the vocabulary\n",
    "#Then it transforms the training data\n",
    "test_features = vectorizerC.transform(test.data) #Now we can transform the testing data. \n",
    "#Try switching the order to see what goes wrong.\n",
    "modelMNB2 = MultinomialNB() #Now we get the learner ready to go.\n",
    "modelMNB2.fit(training_features_count,train.target) #Now we fit the learner on transformed features of the training set\n",
    "#using the target labels."
   ]
  },
  {
   "cell_type": "code",
   "execution_count": 38,
   "metadata": {
    "collapsed": false
   },
   "outputs": [],
   "source": [
    "labelsMNB1 = modelMNB1.predict(test.data) #That's it! Here, we do NOT have to pre-transform the test data\n",
    "labelsMNB2 = modelMNB2.predict(test_features) #Here we do, because the model doesn't contain a vectorizer"
   ]
  },
  {
   "cell_type": "code",
   "execution_count": 40,
   "metadata": {
    "collapsed": false
   },
   "outputs": [
    {
     "data": {
      "text/plain": [
       "0.91689944134078216"
      ]
     },
     "execution_count": 40,
     "metadata": {},
     "output_type": "execute_result"
    }
   ],
   "source": [
    "accuracy_score(test.target,labelsMNB2) #Check that the accuracy score is the same for both"
   ]
  }
 ],
 "metadata": {
  "anaconda-cloud": {},
  "kernelspec": {
   "display_name": "Python [conda root]",
   "language": "python",
   "name": "conda-root-py"
  },
  "language_info": {
   "codemirror_mode": {
    "name": "ipython",
    "version": 3
   },
   "file_extension": ".py",
   "mimetype": "text/x-python",
   "name": "python",
   "nbconvert_exporter": "python",
   "pygments_lexer": "ipython3",
   "version": "3.5.2"
  }
 },
 "nbformat": 4,
 "nbformat_minor": 0
}
