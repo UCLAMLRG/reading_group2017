{
 "cells": [
  {
   "cell_type": "code",
   "execution_count": 1,
   "metadata": {
    "collapsed": true
   },
   "outputs": [],
   "source": [
    "import numpy as np\n",
    "import pylab as pl\n",
    "from scipy.stats import norm"
   ]
  },
  {
   "cell_type": "code",
   "execution_count": 2,
   "metadata": {},
   "outputs": [],
   "source": [
    "dat = np.loadtxt('input_ex3.dat')\n",
    "\n",
    "label=['ID','SS-IN','SED-IN','COND-IN','SS-OUT','SED-OUT','COND-OUT','STAT']\n",
    "out=['OK','set','sol']\n",
    "nout=3\n",
    "nfeatures=len(label)-2 "
   ]
  },
  {
   "cell_type": "markdown",
   "metadata": {},
   "source": [
    "In order to construct a proper Naives model, we need the prior of the target levels, i.e. $P\\Big[t_j\\Big]$ and the conditional probability of the features given the target levels $P\\Big[f_i~|~t_j\\Big]$. First, lets compte the priors:"
   ]
  },
  {
   "cell_type": "code",
   "execution_count": 3,
   "metadata": {},
   "outputs": [
    {
     "name": "stdout",
     "output_type": "stream",
     "text": [
      "[ 0.30769231  0.38461538  0.30769231]\n"
     ]
    }
   ],
   "source": [
    "priors = np.zeros(nout)\n",
    "\n",
    "for i in range(len(priors)):\n",
    "    priors[i] =  dat[:,-1].tolist().count(i+1)\n",
    "    \n",
    "priors /=np.sum(priors)\n",
    "print(priors)"
   ]
  },
  {
   "cell_type": "markdown",
   "metadata": {},
   "source": [
    "Now, let us compute the conditional pdf. Following the exercice, we will assume that all $P\\Big[f_i~|~t_j\\Big]$ are normally distributed. We thus have to determine $N_{features}\\times N_{target}$ mean and standard deviations that characterized these pdf:"
   ]
  },
  {
   "cell_type": "code",
   "execution_count": 4,
   "metadata": {},
   "outputs": [
    {
     "name": "stdout",
     "output_type": "stream",
     "text": [
      "P(SS-IN|OK  = N(m=189.0,sig=45.416590214)\n",
      "P(SED-IN|OK  = N(m=3.125,sig=0.25)\n",
      "P(COND-IN|OK  = N(m=1860.5,sig=371.402297606)\n",
      "P(SS-OUT|OK  = N(m=18.0,sig=6.05530070819)\n",
      "P(SED-OUT|OK  = N(m=0.054,sig=0.0974029431451)\n",
      "P(COND-OUT|OK  = N(m=2036.0,sig=532.191068446)\n",
      "P(SS-IN|set  = N(m=200.8,sig=55.1289397685)\n",
      "P(SED-IN|set  = N(m=4.4,sig=1.78185296812)\n",
      "P(COND-IN|set  = N(m=1251.2,sig=116.244139637)\n",
      "P(SS-OUT|set  = N(m=98.0,sig=23.3773394551)\n",
      "P(SED-OUT|set  = N(m=1.018,sig=1.52663682649)\n",
      "P(COND-OUT|set  = N(m=1372.0,sig=142.578048801)\n",
      "P(SS-IN|sol  = N(m=1301.0,sig=485.440006592)\n",
      "P(SED-IN|sol  = N(m=32.5,sig=11.9582607431)\n",
      "P(COND-IN|sol  = N(m=1621.0,sig=453.037893926)\n",
      "P(SS-OUT|sol  = N(m=49.1,sig=37.7558825439)\n",
      "P(SED-OUT|sol  = N(m=1293.0,sig=430.950886606)\n",
      "P(COND-OUT|sol  = N(m=832.85,sig=958.312233391)\n"
     ]
    }
   ],
   "source": [
    "mean = np.zeros((nout,nfeatures))\n",
    "std  = np.zeros((nout,nfeatures))\n",
    "\n",
    "for j in range(nout):\n",
    "    idx = np.where(dat[:,-1]==j+1)\n",
    "    for i in range(nfeatures):\n",
    "        mean[j,i] = np.mean(dat[idx,i+1])\n",
    "        std[j,i]  = np.std(dat[idx,i+1],ddof=1)\n",
    "        print('P('+label[i+1]+'|'+out[j]+'  = N(m='+str(mean[j,i])+',sig='+str(std[j,i])+')')\n",
    "#print (mean)\n",
    "#print(std)"
   ]
  },
  {
   "cell_type": "markdown",
   "metadata": {},
   "source": [
    "The model has been built (youpie) and we can now make predictions out of it. Our purpose is to determine what is the status of the water treatment given some features. For this, we use the Naives Bayes Model. We introduce the ``Model'' of a target given some features: $M\\Big[t_j ~| ~ \\mathbf f\\Big]=\\prod_{i=1}^{N_{features}}P\\Big[f_i ~|~t_j\\Big]P[t_j]$ (with $\\mathbf f$ a set of features). This $M\\Big[t_j ~| ~ \\mathbf f\\Big]\\propto P\\Big[t_j ~| ~ \\mathbf f\\Big]$ up to a constant that does not depend on the target levels (and under the assumption of conditional independence). The Naive Bayes model prediction is given by the target level which gives the maximal $M\\Big[t_j ~| ~ \\mathbf f\\Big]$ (MAP estimator).\n",
    "\n",
    "In conclusion, given a set of features $\\mathbf f$, we need to compute $M\\Big[t_j ~| ~ \\mathbf f\\Big]$ for the 3 target levels and choose the one which is maximal.\n",
    "In the exercice 3, the set of features observed is given by\n",
    "- SS-IN    = 222\n",
    "- SED-IN   = 4.5\n",
    "- COND-IN  = 1518\n",
    "- SS-OUT   = 74\n",
    "- SED-OUT  = 0.25\n",
    "- COND-OUT = 1642"
   ]
  },
  {
   "cell_type": "code",
   "execution_count": 5,
   "metadata": {},
   "outputs": [
    {
     "name": "stdout",
     "output_type": "stream",
     "text": [
      "[  3.41577454e-36   1.53837179e-13   1.00668352e-21]\n",
      "[  2.22038297e-23   9.99999993e-01   6.54382460e-09]\n"
     ]
    }
   ],
   "source": [
    "x = np.array([222,4.5,1518,74,0.25,1642])\n",
    "M = priors.copy()\n",
    "\n",
    "for j in range(nout):\n",
    "    for i in range(nfeatures):\n",
    "        M[j] *= norm.pdf(x[i],mean[j,i],std[j,i])\n",
    "\n",
    "print(M)\n",
    "print(M/np.sum(M))"
   ]
  },
  {
   "cell_type": "markdown",
   "metadata": {},
   "source": [
    "Conclusion: there is a problem with the plant settler equipment !"
   ]
  }
 ],
 "metadata": {
  "kernelspec": {
   "display_name": "Python 3",
   "language": "python",
   "name": "python3"
  },
  "language_info": {
   "codemirror_mode": {
    "name": "ipython",
    "version": 3
   },
   "file_extension": ".py",
   "mimetype": "text/x-python",
   "name": "python",
   "nbconvert_exporter": "python",
   "pygments_lexer": "ipython3",
   "version": "3.6.1"
  }
 },
 "nbformat": 4,
 "nbformat_minor": 2
}
