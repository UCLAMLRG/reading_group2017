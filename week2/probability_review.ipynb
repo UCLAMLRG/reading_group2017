{
 "cells": [
  {
   "cell_type": "markdown",
   "metadata": {},
   "source": [
    "# Probability Review"
   ]
  },
  {
   "cell_type": "markdown",
   "metadata": {},
   "source": [
    "### Question 1\n",
    "\n",
    "Perform the following steps:\n",
    "\n",
    "1. Get a beer and/or alcoholic beverage for your choice.\n",
    "2. Find a chair in a dimly lit room.\n",
    "3. Sit down and relax in said chair.\n",
    "4. Without any reference to books, articles, lectures, or just about anything, ponder the following:  \"What is probablity?\".\n",
    "5. Record your musings.\n",
    "6. Find a designated driver."
   ]
  },
  {
   "cell_type": "markdown",
   "metadata": {},
   "source": [
    "### Question 2\n",
    "Solve Chapter 6, Exercise 1 in *Machine Learning for Predictive Data Analytics*. **Hint**: While some of these can be solved by enumerating cases, you would be well-advised to consult your notes on the binomial distribution. For part c, you may find it much easier to calculate the probability that *less* than four people will get heads; from this, it's easy to compute the probabilty that *at least* four people will get heads."
   ]
  },
  {
   "cell_type": "markdown",
   "metadata": {},
   "source": [
    "### Question 3\n",
    "Solve Chapter 6, Exercise 2 in *Machine Learning for Predictive Data Analytics."
   ]
  },
  {
   "cell_type": "markdown",
   "metadata": {},
   "source": [
    "### Question 4\n",
    "\n",
    "Suppose there is a cabinet with three drawers.  The first drawer has two red ball, the second has one red and one blue, and the third has two blue balls.  Lets perfrom an experiment (virtually) as such:  choose a random drawer (uniformly, e.g. with equal probability), then from that drawer draw an random ball (again, uniform), record and replace.  Do this a lot.  1) Using Bayes' Thereom, calculate the following:  of the red balls that were picked, what fraction came from drawer 1. 2) Write a computer program that performs this experiment and then calculate the quantity in part 1) directly from this simulation.  Are the two quantities similar?"
   ]
  },
  {
   "cell_type": "markdown",
   "metadata": {},
   "source": [
    "### Question 5\n",
    "Suppose that $10\\%$ of all extra-terrestrial civilizations are evil: when they find out about another planet with intelligent life, they will immediately try to conquer it. This means that $\\Pr(evil)= 0.1$ and $\\Pr(good)= 0.9$. You can get a hint of whether a civilization is \"good\" or \"evil\" by looking at the signals it sends. But this is unreliable. If a civilization is good, its signals will be friendly $80\\%$ of the time: $\\Pr(friendly\\,|\\,good)= 0.80$. However, some evil civilizations are SO tricksy that they will send friendly messages too: $\\Pr(friendly\\,|\\,evil)= 0.10$. Suppose that we receive a friendly message from an extra-terrestrial civilization.  What is the probability that this civilization is evil? Using ideas from Bayesian decision theory, explain whether or not we should respond to this message."
   ]
  },
  {
   "cell_type": "code",
   "execution_count": null,
   "metadata": {
    "collapsed": true
   },
   "outputs": [],
   "source": []
  }
 ],
 "metadata": {
  "anaconda-cloud": {},
  "kernelspec": {
   "display_name": "Python 3",
   "language": "python",
   "name": "python3"
  },
  "language_info": {
   "codemirror_mode": {
    "name": "ipython",
    "version": 3
   },
   "file_extension": ".py",
   "mimetype": "text/x-python",
   "name": "python",
   "nbconvert_exporter": "python",
   "pygments_lexer": "ipython3",
   "version": "3.6.1"
  }
 },
 "nbformat": 4,
 "nbformat_minor": 1
}
