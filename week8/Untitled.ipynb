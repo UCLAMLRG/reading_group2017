{
 "cells": [
  {
   "cell_type": "markdown",
   "metadata": {},
   "source": [
    "# Problem 8"
   ]
  },
  {
   "cell_type": "markdown",
   "metadata": {},
   "source": [
    "## Retrieve the MNIST handwriting data"
   ]
  },
  {
   "cell_type": "code",
   "execution_count": 158,
   "metadata": {},
   "outputs": [
    {
     "data": {
      "text/plain": [
       "{'COL_NAMES': ['label', 'data'],\n",
       " 'DESCR': 'mldata.org dataset: mnist-original',\n",
       " 'data': array([[0, 0, 0, ..., 0, 0, 0],\n",
       "        [0, 0, 0, ..., 0, 0, 0],\n",
       "        [0, 0, 0, ..., 0, 0, 0],\n",
       "        ..., \n",
       "        [0, 0, 0, ..., 0, 0, 0],\n",
       "        [0, 0, 0, ..., 0, 0, 0],\n",
       "        [0, 0, 0, ..., 0, 0, 0]], dtype=uint8),\n",
       " 'target': array([ 0.,  0.,  0., ...,  9.,  9.,  9.])}"
      ]
     },
     "execution_count": 158,
     "metadata": {},
     "output_type": "execute_result"
    }
   ],
   "source": [
    "from sklearn.datasets import fetch_mldata\n",
    "from math import sqrt\n",
    "mnist = fetch_mldata('MNIST original')\n",
    "mnist"
   ]
  },
  {
   "cell_type": "code",
   "execution_count": 159,
   "metadata": {},
   "outputs": [
    {
     "name": "stdout",
     "output_type": "stream",
     "text": [
      "Data set conatains 70000 images with 784 features.\n",
      "The features are a 28.0x28.0 array of pixels\n"
     ]
    }
   ],
   "source": [
    "X = mnist[\"data\"]\n",
    "y = mnist[\"target\"]\n",
    "print(\"Data set conatains {} images with {} features.\".format(*X.shape))\n",
    "print(\"The features are a {}x{} array of pixels\".format(sqrt(X.shape[1]), sqrt(X.shape[1])))"
   ]
  },
  {
   "cell_type": "markdown",
   "metadata": {},
   "source": [
    "## let's display an example of one image"
   ]
  },
  {
   "cell_type": "code",
   "execution_count": 160,
   "metadata": {},
   "outputs": [
    {
     "data": {
      "image/png": "[encoded data removed]",
      "text/plain": [
       "<matplotlib.figure.Figure at 0x14d845a58>"
      ]
     },
     "metadata": {},
     "output_type": "display_data"
    }
   ],
   "source": [
    "%matplotlib inline\n",
    "import matplotlib.pyplot as plt\n",
    "from matplotlib.cm import binary\n",
    "import seaborn as sns\n",
    "sns.set()\n",
    "\n",
    "# pick out a digit from the data set\n",
    "digit_index = 6563\n",
    "ex_digit = X[digit_index]\n",
    "# the data is a 1D array of numbers, we want it as a 2D array of pixels\n",
    "ex_digit_img = ex_digit.reshape(28, 28)\n",
    "\n",
    "# show the image\n",
    "plt.imshow(ex_digit_img, cmap=binary, interpolation=\"nearest\")\n",
    "plt.axis(\"off\")\n",
    "plt.show()"
   ]
  },
  {
   "cell_type": "code",
   "execution_count": 161,
   "metadata": {},
   "outputs": [
    {
     "name": "stdout",
     "output_type": "stream",
     "text": [
      "This was an image of a 1.0\n"
     ]
    }
   ],
   "source": [
    "print(\"This was an image of a {}\".format(y[digit_index]))"
   ]
  },
  {
   "cell_type": "markdown",
   "metadata": {},
   "source": [
    "## Split up our data into Training, Validation, and Testing"
   ]
  },
  {
   "cell_type": "code",
   "execution_count": 162,
   "metadata": {},
   "outputs": [
    {
     "name": "stdout",
     "output_type": "stream",
     "text": [
      "Done dividing up the data\n",
      "Training set contains values:  {0.0, 1.0, 2.0, 3.0, 4.0, 5.0, 6.0, 7.0, 8.0, 9.0}\n",
      "Validation set contains values:  {0.0, 1.0, 2.0, 3.0, 4.0, 5.0, 6.0, 7.0, 8.0, 9.0}\n",
      "Testing set contains values:  {0.0, 1.0, 2.0, 3.0, 4.0, 5.0, 6.0, 7.0, 8.0, 9.0}\n"
     ]
    }
   ],
   "source": [
    "import numpy as np\n",
    "# shuffle the data\n",
    "shuffle = np.random.permutation(70000)\n",
    "X = X[shuffle]\n",
    "y = y[shuffle]\n",
    "Ntrain = 40000\n",
    "Nvalidate = 10000\n",
    "Ntest = 10000\n",
    "if (Ntrain+Nvalidate+Ntest < y.shape[0]):\n",
    "    # dividing up the images\n",
    "    X_train = X[:Ntrain]\n",
    "    X_validate = X[Ntrain:Ntrain+Nvalidate]\n",
    "    X_test = X[Ntrain+Nvalidate:Ntrain+Nvalidate+Ntest]\n",
    "    # dividing up the targets\n",
    "    y_train = y[:Ntrain]\n",
    "    y_validate = y[Ntrain:Ntrain+Nvalidate]\n",
    "    y_test = y[Ntrain+Nvalidate:Ntrain+Nvalidate+Ntest]\n",
    "    \n",
    "else:\n",
    "    print(\"Cannot divide up data that way, exiting.\")\n",
    "    raise ValueError\n",
    "print(\"Done dividing up the data\")\n",
    "print(\"Training set contains values: \", set(y_train))\n",
    "print(\"Validation set contains values: \", set(y_validate))\n",
    "print(\"Testing set contains values: \", set(y_test))"
   ]
  },
  {
   "cell_type": "markdown",
   "metadata": {},
   "source": [
    "## Figuring out digits through a random forest"
   ]
  },
  {
   "cell_type": "code",
   "execution_count": 163,
   "metadata": {},
   "outputs": [
    {
     "name": "stderr",
     "output_type": "stream",
     "text": [
      "[Parallel(n_jobs=4)]: Done   2 out of   4 | elapsed:    4.8s remaining:    4.8s\n",
      "[Parallel(n_jobs=4)]: Done   4 out of   4 | elapsed:    5.4s finished\n",
      "[Parallel(n_jobs=4)]: Done   2 out of   4 | elapsed:    0.4s remaining:    0.4s\n",
      "[Parallel(n_jobs=4)]: Done   4 out of   4 | elapsed:    0.4s finished\n"
     ]
    },
    {
     "data": {
      "image/png": "[encoded data removed]",
      "text/plain": [
       "<matplotlib.figure.Figure at 0x11130e1d0>"
      ]
     },
     "metadata": {},
     "output_type": "display_data"
    }
   ],
   "source": [
    "from sklearn.ensemble import BaggingClassifier\n",
    "from sklearn.tree import DecisionTreeClassifier\n",
    "\n",
    "\n",
    "\n",
    "\n",
    "bagging_clf = BaggingClassifier(DecisionTreeClassifier(), n_estimators=10,\n",
    "                                bootstrap=True, n_jobs=-1, verbose=1, \n",
    "                                max_samples=1000)\n",
    "bagging_clf.fit(X_train, y_train)\n",
    "\n",
    "y_pred = bagging_clf.predict(X_test)\n",
    "\n",
    "\n",
    "# plot the result\n",
    "from sklearn.metrics import confusion_matrix\n",
    "mat = confusion_matrix(y_test, y_pred)\n",
    "sns.heatmap(mat.T, square=True, annot=True, fmt='d', cbar=False)\n",
    "plt.xlabel('true label')\n",
    "plt.ylabel('pred label')\n",
    "plt.show()"
   ]
  }
 ],
 "metadata": {
  "kernelspec": {
   "display_name": "Python 3",
   "language": "python",
   "name": "python3"
  },
  "language_info": {
   "codemirror_mode": {
    "name": "ipython",
    "version": 3
   },
   "file_extension": ".py",
   "mimetype": "text/x-python",
   "name": "python",
   "nbconvert_exporter": "python",
   "pygments_lexer": "ipython3",
   "version": "3.6.1"
  }
 },
 "nbformat": 4,
 "nbformat_minor": 2
}
