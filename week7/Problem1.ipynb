{
 "cells": [
  {
   "cell_type": "markdown",
   "metadata": {},
   "source": [
    "# Problem 1\n",
    "\n",
    "The image below shows a set of eight Scrabble pieces.\n",
    "\n",
    "| O | X | Y | M | O | R | O | N |\n",
    "\n",
    "<b>a. What is the entropy in bits of the letters in this set?</b>"
   ]
  },
  {
   "cell_type": "markdown",
   "metadata": {},
   "source": [
    "First, we note that \"O\" is repeated three times and therefore has a degenercy of 3. The probabilty of randomly selecting a \"O\" is 3/8.\n",
    "\n",
    "All other letters are unique and have a probabilty of 1/8."
   ]
  },
  {
   "cell_type": "code",
   "execution_count": 1,
   "metadata": {},
   "outputs": [
    {
     "name": "stdout",
     "output_type": "stream",
     "text": [
      "2.4056390622295662\n"
     ]
    }
   ],
   "source": [
    "import numpy as np\n",
    "import math\n",
    "\n",
    "entropy=(3/8*math.log2(3/8)+5/8*math.log2(1/8))*-1\n",
    "print(entropy)\n"
   ]
  },
  {
   "cell_type": "markdown",
   "metadata": {},
   "source": [
    "<b>b. What would be the reduction in entropy (i.e. the information gain) in bits if we split these letters into two sets, one containing the vowels and the other containing the consonants? </b>"
   ]
  },
  {
   "cell_type": "markdown",
   "metadata": {},
   "source": [
    "If we look at the vowels first, we see that all the vowel are \"O\". Therefore, the probabiltiy of getting an \"O\" in the vowel category is 3/3.\n",
    "\n",
    "Looking at the consonants, we find that \"X,Y,M,R,N\" are all possibly choices. The probability of find any one of these letters is 1/5"
   ]
  },
  {
   "cell_type": "code",
   "execution_count": 5,
   "metadata": {},
   "outputs": [
    {
     "name": "stdout",
     "output_type": "stream",
     "text": [
      "-0.0 2.321928094887362\n"
     ]
    }
   ],
   "source": [
    "entropyVowel=-3/3*math.log2(3/3)\n",
    "entropyConsonant=-1/5*math.log2(1/5)*5\n",
    "print(entropyVowel,entropyConsonant)"
   ]
  },
  {
   "cell_type": "markdown",
   "metadata": {},
   "source": [
    "To find the information gain, we must first find the entropy remaining after creating our new split. This is just a weighted sum of the individual entroy from each bin."
   ]
  },
  {
   "cell_type": "code",
   "execution_count": 6,
   "metadata": {},
   "outputs": [
    {
     "name": "stdout",
     "output_type": "stream",
     "text": [
      "1.4512050593046013\n"
     ]
    }
   ],
   "source": [
    "rem=3/8*entropyVowel+5/8*entropyConsonant\n",
    "print(rem)"
   ]
  },
  {
   "cell_type": "markdown",
   "metadata": {},
   "source": [
    "Now we can compute the information gain. Which is the difference between the total entropy of the system and the overall remaining entropy from the split."
   ]
  },
  {
   "cell_type": "code",
   "execution_count": 7,
   "metadata": {},
   "outputs": [
    {
     "name": "stdout",
     "output_type": "stream",
     "text": [
      "0.9544340029249649\n"
     ]
    }
   ],
   "source": [
    "IG=entropy-rem\n",
    "print(IG)"
   ]
  },
  {
   "cell_type": "markdown",
   "metadata": {},
   "source": [
    "<b>c. What is the maximum possible entropy in bits for a set of eight Scrabble pieces?</b>\n",
    "\n",
    "This is just the case with the highest number of state. This occurs when all the letters are unique."
   ]
  },
  {
   "cell_type": "code",
   "execution_count": 8,
   "metadata": {},
   "outputs": [
    {
     "name": "stdout",
     "output_type": "stream",
     "text": [
      "3.0\n"
     ]
    }
   ],
   "source": [
    "maxEntropy=-1/8*math.log2(1/8)*8\n",
    "print(maxEntropy)"
   ]
  },
  {
   "cell_type": "markdown",
   "metadata": {},
   "source": [
    "<b>d. In general, which is preferable when you are playing Scrabble: a set of letters with high entropy or a set of letters with low entropy? </b>"
   ]
  },
  {
   "cell_type": "markdown",
   "metadata": {},
   "source": [
    "In theroy, we would want the highest number of possible permutations. Thus, we would want the highest entropy. (AKA all unique letters)"
   ]
  }
 ],
 "metadata": {
  "kernelspec": {
   "display_name": "Python 3",
   "language": "python",
   "name": "python3"
  },
  "language_info": {
   "codemirror_mode": {
    "name": "ipython",
    "version": 3
   },
   "file_extension": ".py",
   "mimetype": "text/x-python",
   "name": "python",
   "nbconvert_exporter": "python",
   "pygments_lexer": "ipython3",
   "version": "3.6.1"
  }
 },
 "nbformat": 4,
 "nbformat_minor": 2
}
